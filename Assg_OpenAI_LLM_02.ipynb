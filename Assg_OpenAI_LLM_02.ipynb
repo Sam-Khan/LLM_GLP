{
  "cells": [
    {
      "cell_type": "markdown",
      "metadata": {
        "id": "view-in-github",
        "colab_type": "text"
      },
      "source": [
        "<a href=\"https://colab.research.google.com/github/Sam-Khan/LLM_GLP/blob/main/Assg_OpenAI_LLM_02.ipynb\" target=\"_parent\"><img src=\"https://colab.research.google.com/assets/colab-badge.svg\" alt=\"Open In Colab\"/></a>"
      ]
    },
    {
      "cell_type": "markdown",
      "metadata": {
        "id": "1OT0sIRM9ES0"
      },
      "source": [
        "**started the code to know, how to use google API for text generation**"
      ]
    },
    {
      "cell_type": "code",
      "execution_count": 2,
      "metadata": {
        "colab": {
          "base_uri": "https://localhost:8080/"
        },
        "id": "vVu3TH3XEAoe",
        "outputId": "b2e2059b-652c-4acf-ec8f-ad4334261fb4"
      },
      "outputs": [
        {
          "output_type": "stream",
          "name": "stdout",
          "text": [
            "\u001b[2K     \u001b[90m━━━━━━━━━━━━━━━━━━━━━━━━━━━━━━━━━━━━━━━━\u001b[0m \u001b[32m164.2/164.2 kB\u001b[0m \u001b[31m4.3 MB/s\u001b[0m eta \u001b[36m0:00:00\u001b[0m\n",
            "\u001b[2K     \u001b[90m━━━━━━━━━━━━━━━━━━━━━━━━━━━━━━━━━━━━━━━━\u001b[0m \u001b[32m718.3/718.3 kB\u001b[0m \u001b[31m11.8 MB/s\u001b[0m eta \u001b[36m0:00:00\u001b[0m\n",
            "\u001b[?25h"
          ]
        }
      ],
      "source": [
        "!pip install -q -U google-generativeai"
      ]
    },
    {
      "cell_type": "code",
      "execution_count": 3,
      "metadata": {
        "id": "SXZmVJ7vECjI"
      },
      "outputs": [],
      "source": [
        "import pathlib\n",
        "import textwrap\n",
        "\n",
        "import google.generativeai as genai\n",
        "\n",
        "from IPython.display import display\n",
        "from IPython.display import Markdown\n",
        "\n",
        "\n",
        "def to_markdown(text):\n",
        "  text = text.replace('•', '  *')\n",
        "  return Markdown(textwrap.indent(text, '> ', predicate=lambda _: True))"
      ]
    },
    {
      "cell_type": "code",
      "execution_count": 4,
      "metadata": {
        "id": "U1H7EwYwEMFT"
      },
      "outputs": [],
      "source": [
        "# Used to securely store  API key\n",
        "from google.colab import userdata"
      ]
    },
    {
      "cell_type": "code",
      "execution_count": 5,
      "metadata": {
        "id": "Wee-10TAp-Ee"
      },
      "outputs": [],
      "source": [
        "import os"
      ]
    },
    {
      "cell_type": "code",
      "execution_count": 6,
      "metadata": {
        "id": "EVhclsCREZ9O",
        "collapsed": true
      },
      "outputs": [],
      "source": [
        "#  used `os.getenv('GOOGLE_API_KEY')` to fetch an environment variable.\n",
        "os.environ[\"GOOGLE_API_KEY\"] = \"****************************\"\n",
        "genai.configure(api_key= '***********************************')"
      ]
    },
    {
      "cell_type": "code",
      "execution_count": 7,
      "metadata": {
        "id": "PCJ2xxuzFwTr"
      },
      "outputs": [],
      "source": [
        "model = genai.GenerativeModel('gemini-1.5-flash')"
      ]
    },
    {
      "cell_type": "code",
      "execution_count": 8,
      "metadata": {
        "id": "sGjCfV0nEn3l",
        "collapsed": true,
        "colab": {
          "base_uri": "https://localhost:8080/",
          "height": 225
        },
        "outputId": "0bc0d6f0-e51a-40bd-d8a5-455fc102b5ec"
      },
      "outputs": [
        {
          "output_type": "stream",
          "name": "stdout",
          "text": [
            "models/gemini-1.0-pro\n",
            "models/gemini-1.0-pro-001\n",
            "models/gemini-1.0-pro-latest\n",
            "models/gemini-1.0-pro-vision-latest\n",
            "models/gemini-1.5-flash\n",
            "models/gemini-1.5-flash-001\n",
            "models/gemini-1.5-flash-latest\n",
            "models/gemini-1.5-pro\n",
            "models/gemini-1.5-pro-001\n",
            "models/gemini-1.5-pro-latest\n",
            "models/gemini-pro\n",
            "models/gemini-pro-vision\n"
          ]
        }
      ],
      "source": [
        "for m in genai.list_models():\n",
        "  if 'generateContent' in m.supported_generation_methods:\n",
        "    print(m.name)"
      ]
    },
    {
      "cell_type": "code",
      "execution_count": 9,
      "metadata": {
        "id": "7f6tNqC5GGDv",
        "colab": {
          "base_uri": "https://localhost:8080/",
          "height": 52
        },
        "outputId": "86994226-dea7-434c-91dc-e665f912274b"
      },
      "outputs": [
        {
          "output_type": "stream",
          "name": "stdout",
          "text": [
            "CPU times: user 74.3 ms, sys: 7.96 ms, total: 82.2 ms\n",
            "Wall time: 5.12 s\n"
          ]
        }
      ],
      "source": [
        "%%time\n",
        "response = model.generate_content(\"What is a fan?\")"
      ]
    },
    {
      "cell_type": "code",
      "execution_count": 10,
      "metadata": {
        "colab": {
          "base_uri": "https://localhost:8080/",
          "height": 144
        },
        "id": "YBdP4mGlGHi7",
        "outputId": "1f6d9e76-c1e4-44d8-d276-08578f6d95be"
      },
      "outputs": [
        {
          "output_type": "execute_result",
          "data": {
            "text/plain": [
              "<IPython.core.display.Markdown object>"
            ],
            "text/markdown": "> \"Fan\" can refer to several things, so to give you the most accurate answer, I need a little more context!  Please tell me:\n> \n> * **Are you asking about a device?**  Like an electric fan for cooling?\n> * **Are you asking about a person?**  Like a fan of a band or a sports team?\n> * **Are you asking about something else?** \n> \n> Once I know what kind of \"fan\" you're interested in, I can give you a more helpful answer! \n"
          },
          "metadata": {},
          "execution_count": 10
        }
      ],
      "source": [
        "to_markdown(response.text)"
      ]
    },
    {
      "cell_type": "markdown",
      "metadata": {
        "id": "zeNlMXcb9alz"
      },
      "source": [
        "**Now to use my resume for extracting information**"
      ]
    },
    {
      "cell_type": "code",
      "execution_count": 11,
      "metadata": {
        "colab": {
          "base_uri": "https://localhost:8080/"
        },
        "id": "ZNPeGs3ANZnt",
        "outputId": "1509448d-f0b9-4df8-9895-a5cd631714f9"
      },
      "outputs": [
        {
          "output_type": "stream",
          "name": "stdout",
          "text": [
            "Collecting PyPDF2\n",
            "  Downloading pypdf2-3.0.1-py3-none-any.whl (232 kB)\n",
            "\u001b[?25l     \u001b[90m━━━━━━━━━━━━━━━━━━━━━━━━━━━━━━━━━━━━━━━━\u001b[0m \u001b[32m0.0/232.6 kB\u001b[0m \u001b[31m?\u001b[0m eta \u001b[36m-:--:--\u001b[0m\r\u001b[2K     \u001b[91m━━━━━━━━━━━━━━━━━━━━━━━━━━━━━━━━━━━\u001b[0m\u001b[90m╺\u001b[0m\u001b[90m━━━━\u001b[0m \u001b[32m204.8/232.6 kB\u001b[0m \u001b[31m6.0 MB/s\u001b[0m eta \u001b[36m0:00:01\u001b[0m\r\u001b[2K     \u001b[90m━━━━━━━━━━━━━━━━━━━━━━━━━━━━━━━━━━━━━━━━\u001b[0m \u001b[32m232.6/232.6 kB\u001b[0m \u001b[31m5.2 MB/s\u001b[0m eta \u001b[36m0:00:00\u001b[0m\n",
            "\u001b[?25hInstalling collected packages: PyPDF2\n",
            "Successfully installed PyPDF2-3.0.1\n"
          ]
        }
      ],
      "source": [
        "!pip install PyPDF2\n"
      ]
    },
    {
      "cell_type": "code",
      "execution_count": 12,
      "metadata": {
        "id": "x_z6lWo9Nb09",
        "colab": {
          "base_uri": "https://localhost:8080/"
        },
        "outputId": "d1b1bffd-f3f9-4f06-d696-d25115045bc0"
      },
      "outputs": [
        {
          "output_type": "stream",
          "name": "stdout",
          "text": [
            "Stephen \n",
            "Greet  \n",
            "Senior Data  Analyst  \n",
            " \n",
            "ㅡ  \n",
            " \n",
            " \n",
            "Brooklyn, NY 11222  \n",
            "(123) 456 -7890  \n",
            " stephen@beamjobs.com  \n",
            " \n",
            "LinkedIn:  /in/stephen -greet  \n",
            "Website:  BeamJobs.com  \n",
            " \n",
            "Experience  BeamJobs  \n",
            "January 2018 - Present, New York NY  \n",
            "Senior Data Analyst  \n",
            "Built out the data and reporting infrastructure from the ground up \n",
            "using Tableau and SQL to provide real -time insights into the product, \n",
            "marketing funnels, and business KPIs  \n",
            "Designed  and implemented  A/B experiments  for our product  to improve \n",
            "the conversion rate by 18 basis points and reduce churn by 11 basis \n",
            "points  \n",
            "Implemented a long -term pricing  experiment that improved customer \n",
            "lifetime value by 22%  \n",
            "Built operational reporting in Tableau to find areas of improvement \n",
            "for contractors resulting in $210,000 in annual incremental revenue  \n",
            "Led a team of one full -time employee and three contractors  \n",
            " \n",
            "Chegg \n",
            "April 2015 - January 2018, New York NY  \n",
            "Data Analyst  \n",
            "As the first data hire worked directly with the executive team to \n",
            "formulate and report on KPIs across their web properties that get 200 \n",
            "million visitors annually using SQL and Google Sheets  \n",
            "Built a logistic  regression  model  to help the SEO team  decide  which \n",
            "keywords  to target  resulting  in a 13% lift in YoY site visitors  in 2018  \n",
            "Worked with product managers to perform cohort analysis that \n",
            "identified  an opportunity  to reduce  pricing  by 25% for a segmen t of \n",
            "users to  boost  yearly  revenue  by $720,000  \n",
            "ㅡ \n",
            "Skills  Programming: Python (Scikit -learn),  SQL \n",
            "Data Visualization: Tableau, Excel, Google Sheets, Matplotlib \n",
            "Modeling: Logistic regressions, linear regressions, decision trees \n",
            "Product Analytics: Google Analytics, A/B Testing & Experimentation  \n",
            "ㅡ \n",
            "Education  University  of Pittsburgh  / B.S. in Computer  Science  \n",
            "September 2011 - April 2015, Pittsburgh PA  \n",
            " \n",
            "Dear Job Seeker,  \n",
            " \n",
            " \n",
            "If you’re struggling to write your resume, don’t worry.  You’re in good \n",
            "company – everyo ne struggles with it.  \n",
            " \n",
            "Hire one of our certified professional resume writers \n",
            "from $49.95 per resume.  \n",
            " \n",
            "https://app.resumethatworks.com/order.php.  \n",
            " \n"
          ]
        }
      ],
      "source": [
        "import PyPDF2\n",
        "\n",
        "def pdf_to_string(file_path):\n",
        "    pdf_text = \"\"\n",
        "    with open(file_path, 'rb') as file:\n",
        "        reader = PyPDF2.PdfReader(file)\n",
        "        for page_num in range(len(reader.pages)):\n",
        "            page = reader.pages[page_num]\n",
        "            pdf_text += page.extract_text()\n",
        "    return pdf_text\n",
        "\n",
        "file_path = '/DataAnalystResume_01.pdf'\n",
        "pdf_content = pdf_to_string(file_path)\n",
        "print(pdf_content)\n"
      ]
    },
    {
      "cell_type": "code",
      "execution_count": 13,
      "metadata": {
        "colab": {
          "base_uri": "https://localhost:8080/",
          "height": 1000
        },
        "id": "LcYAQn5HSAMM",
        "outputId": "1f053fec-cce1-40d6-a123-17deb117135b"
      },
      "outputs": [
        {
          "output_type": "stream",
          "name": "stdout",
          "text": [
            "This is a great start to a resume! It's clear, concise, and highlights Stephen's impressive skills and experience. However, there are some areas where we can make improvements to make it even more effective. \n",
            "\n",
            "Here are some suggestions: \n",
            "\n",
            "**1. Formatting:**\n",
            "\n",
            "* **Use a consistent font:** Stick to one font throughout the resume for readability.\n",
            "* **Use clear headings:** Separate sections like Education, Experience, and Skills with bold headings.\n",
            "* **Add white space:** Use bullet points, spacing, and line breaks to break up the text and make it visually appealing.\n",
            "* **Add a summary/profile section:**  This is a brief overview of your key skills and experience,  providing a concise \"elevator pitch\" about your value to potential employers.\n",
            "\n",
            "**2. Content:**\n",
            "\n",
            "* **Quantify accomplishments:** Make your accomplishments more impactful by using numbers and specific data. For example, instead of \"Designed and implemented A/B experiments,\" write \"Designed and implemented A/B experiments that resulted in an 18% increase in conversion rate.\"\n",
            "* **Focus on results:**  Highlight the positive outcomes of your work rather than just listing tasks. \n",
            "* **Tailor the resume to each job application:**  Adjust the content and language to match the requirements and keywords in the job description.\n",
            "\n",
            "**3.  Experience Section:**\n",
            "\n",
            "* **Reverse chronological order:**  List your work experience starting with your most recent position.\n",
            "* **Use action verbs:** Start each bullet point with action verbs like \"Developed,\" \"Managed,\" \"Led,\" \"Implemented,\" etc.\n",
            "\n",
            "**4. Skills:**\n",
            "\n",
            "* **Categorize:** Group similar skills together. For example, you can group programming skills, data visualization skills, and modeling skills separately. \n",
            "* **Add relevant skills:** Include any other relevant skills you have, such as communication, teamwork, or problem-solving.\n",
            "\n",
            "**5. Education:**\n",
            "\n",
            "* **Include your GPA:** If your GPA is strong, consider including it.\n",
            "* **Highlight relevant coursework or projects:**  If any coursework or projects are particularly relevant to the jobs you're applying for, mention them briefly.\n",
            "\n",
            "**Example of a revised section:**\n",
            "\n",
            "**Experience**\n",
            "\n",
            "**Senior Data Analyst, BeamJobs, New York, NY (January 2018 - Present)**\n",
            "\n",
            "* Built and implemented a data and reporting infrastructure using Tableau and SQL, providing real-time insights into product performance, marketing funnels, and key business metrics.\n",
            "* Designed and executed A/B experiments that improved the conversion rate by 18 basis points and reduced churn by 11 basis points.\n",
            "* Implemented a long-term pricing experiment that increased customer lifetime value by 22%.\n",
            "* Developed operational reporting in Tableau, identifying areas for contractor improvement and generating $210,000 in annual incremental revenue.\n",
            "* Led a team of one full-time employee and three contractors. \n",
            "\n",
            "**Data Analyst, Chegg, New York, NY (April 2015 - January 2018)**\n",
            "\n",
            "* As the first data hire, collaborated directly with the executive team to define and report on KPIs across Chegg's web properties, which receive 200 million visitors annually.\n",
            "* Developed a logistic regression model to guide the SEO team in targeting keywords, resulting in a 13% year-over-year increase in site visitors in 2018.\n",
            "* Partnered with product managers to conduct cohort analysis, identifying an opportunity to reduce pricing by 25% for a segment of users, boosting yearly revenue by $720,000.\n",
            "\n",
            "**Additional Tips:**\n",
            "\n",
            "* **Proofread carefully:** Ensure your resume is free of typos and grammatical errors.\n",
            "* **Get feedback:**  Ask a friend, family member, or career advisor to review your resume for any potential improvements.\n",
            "\n",
            "Remember, your resume is a marketing document that showcases your skills and experience. By making it clear, concise, and results-oriented, you can effectively communicate your value to potential employers and increase your chances of landing an interview. \n",
            "\n"
          ]
        }
      ],
      "source": [
        "import PyPDF2\n",
        "import google.generativeai as genai\n",
        "\n",
        "# Function to convert PDF to text\n",
        "def pdf_to_string(file_path):\n",
        "    pdf_text = \"\"\n",
        "    with open(file_path, 'rb') as file:\n",
        "        reader = PyPDF2.PdfReader(file)\n",
        "        for page_num in range(len(reader.pages)):\n",
        "            page = reader.pages[page_num]\n",
        "            pdf_text += page.extract_text()\n",
        "    return pdf_text\n",
        "\n",
        "GOOGLE_API_KEY = '*****************************'\n",
        "genai.configure(api_key='**********************')\n",
        "\n",
        "# Instantiating the Gemini model\n",
        "model = genai.GenerativeModel('gemini-1.5-flash')\n",
        "\n",
        "# Convert PDF to text\n",
        "file_path = '/DataAnalystResume_01.pdf'\n",
        "pdf_content = pdf_to_string(file_path)\n",
        "\n",
        "# Use the Gemini model to generate content relevant to education\n",
        "response = model.generate_content(\"Education:\\n\" + pdf_content)\n",
        "\n",
        "# Display the response\n",
        "print(response.text)\n"
      ]
    },
    {
      "cell_type": "code",
      "execution_count": null,
      "metadata": {
        "id": "rzX7Sly8Yyvq"
      },
      "outputs": [],
      "source": []
    },
    {
      "cell_type": "markdown",
      "metadata": {
        "id": "IxW514AQZgqh"
      },
      "source": [
        "## **Multi pdf parser gemini model**"
      ]
    },
    {
      "cell_type": "code",
      "execution_count": 14,
      "metadata": {
        "colab": {
          "base_uri": "https://localhost:8080/",
          "height": 1000
        },
        "id": "rC807R3il6GW",
        "outputId": "e7e304a8-104b-4dba-de91-19ca16e73b60"
      },
      "outputs": [
        {
          "output_type": "stream",
          "name": "stdout",
          "text": [
            "Requirement already satisfied: PyPDF2 in /usr/local/lib/python3.10/dist-packages (3.0.1)\n",
            "models/gemini-1.0-pro\n",
            "models/gemini-1.0-pro-001\n",
            "models/gemini-1.0-pro-latest\n",
            "models/gemini-1.0-pro-vision-latest\n",
            "models/gemini-1.5-flash\n",
            "models/gemini-1.5-flash-001\n",
            "models/gemini-1.5-flash-latest\n",
            "models/gemini-1.5-pro\n",
            "models/gemini-1.5-pro-001\n",
            "models/gemini-1.5-pro-latest\n",
            "models/gemini-pro\n",
            "models/gemini-pro-vision\n",
            "Processing resume: /DataAnalystResume_01.pdf\n",
            "Response for /DataAnalystResume_01.pdf:\n",
            "The resume provides the following education information:\n",
            "\n",
            "* **University of Pittsburgh**\n",
            "* **B.S. in Computer Science**\n",
            "* **September 2011 - April 2015**\n",
            "* **Pittsburgh, PA** \n",
            "\n",
            "\n"
          ]
        },
        {
          "output_type": "display_data",
          "data": {
            "text/plain": [
              "<IPython.core.display.Markdown object>"
            ],
            "text/markdown": "> The resume provides the following education information:\n> \n> * **University of Pittsburgh**\n> * **B.S. in Computer Science**\n> * **September 2011 - April 2015**\n> * **Pittsburgh, PA** \n"
          },
          "metadata": {}
        },
        {
          "output_type": "stream",
          "name": "stdout",
          "text": [
            "Processing resume: /DataAnalystResume_02.pdf\n",
            "Response for /DataAnalystResume_02.pdf:\n",
            "Here's the education information extracted from the resume:\n",
            "\n",
            "**Institution:** University of Pittsburgh\n",
            "**Degree:** B.S. in Mathematics and Economics\n",
            "**Dates Attended:** September 2016 - April 2020\n",
            "**Location:** Pittsburgh, PA\n",
            "**GPA:** 3.7\n",
            "\n",
            "**Relevant Courses:**\n",
            "\n",
            "* Intermediate Programming\n",
            "* Probability & Statistics\n",
            "* Linear Algebra\n",
            "* Applied Econometrics\n",
            "* Game Theory\n",
            "* Calculus 1-3 \n",
            "\n",
            "\n"
          ]
        },
        {
          "output_type": "display_data",
          "data": {
            "text/plain": [
              "<IPython.core.display.Markdown object>"
            ],
            "text/markdown": "> Here's the education information extracted from the resume:\n> \n> **Institution:** University of Pittsburgh\n> **Degree:** B.S. in Mathematics and Economics\n> **Dates Attended:** September 2016 - April 2020\n> **Location:** Pittsburgh, PA\n> **GPA:** 3.7\n> \n> **Relevant Courses:**\n> \n> * Intermediate Programming\n> * Probability & Statistics\n> * Linear Algebra\n> * Applied Econometrics\n> * Game Theory\n> * Calculus 1-3 \n"
          },
          "metadata": {}
        },
        {
          "output_type": "stream",
          "name": "stdout",
          "text": [
            "Processing resume: /DataAnalystResume_03.pdf\n",
            "Response for /DataAnalystResume_03.pdf:\n",
            "## Education Information from the Resume:\n",
            "\n",
            "**Degree:** B.S. in Statistics\n",
            "\n",
            "**Institution:** Rutgers University\n",
            "\n",
            "**Location:** New Brunswick, NJ\n",
            "\n",
            "**Dates Attended:** September 2010 - April 2014 \n",
            "\n",
            "\n"
          ]
        },
        {
          "output_type": "display_data",
          "data": {
            "text/plain": [
              "<IPython.core.display.Markdown object>"
            ],
            "text/markdown": "> ## Education Information from the Resume:\n> \n> **Degree:** B.S. in Statistics\n> \n> **Institution:** Rutgers University\n> \n> **Location:** New Brunswick, NJ\n> \n> **Dates Attended:** September 2010 - April 2014 \n"
          },
          "metadata": {}
        }
      ],
      "source": [
        "!pip install -q -U google-generativeai\n",
        "!pip install PyPDF2\n",
        "\n",
        "import pathlib\n",
        "import textwrap\n",
        "\n",
        "import google.generativeai as genai\n",
        "from IPython.display import display, Markdown\n",
        "from google.colab import userdata\n",
        "import PyPDF2\n",
        "\n",
        "def to_markdown(text):\n",
        "    text = text.replace('•', '  *')\n",
        "    return Markdown(textwrap.indent(text, '> ', predicate=lambda _: True))\n",
        "\n",
        "# Used to securely store your API key\n",
        "os.environ[\"GOOGLE_API_KEY\"] = \"*************************\"\n",
        "genai.configure(api_key= '***************************')\n",
        "\n",
        "for m in genai.list_models():\n",
        "    if 'generateContent' in m.supported_generation_methods:\n",
        "        print(m.name)\n",
        "\n",
        "model = genai.GenerativeModel('gemini-1.5-flash')\n",
        "\n",
        "# Function to convert PDF to text\n",
        "def pdf_to_string(file_path):\n",
        "    pdf_text = \"\"\n",
        "    with open(file_path, 'rb') as file:\n",
        "        reader = PyPDF2.PdfReader(file)\n",
        "        for page_num in range(len(reader.pages)):\n",
        "            page = reader.pages[page_num]\n",
        "            pdf_text += page.extract_text()\n",
        "    return pdf_text\n",
        "\n",
        "# List of file paths to PDF resumes\n",
        "file_paths = [\n",
        "    '/DataAnalystResume_01.pdf',\n",
        "    '/DataAnalystResume_02.pdf',\n",
        "    '/DataAnalystResume_03.pdf'  # Add more paths as needed\n",
        "]\n",
        "\n",
        "# Process each PDF resume\n",
        "for file_path in file_paths:\n",
        "    print(f\"Processing resume: {file_path}\")\n",
        "    pdf_content = pdf_to_string(file_path)\n",
        "\n",
        "    # Use the Gemini model to generate content relevant to education\n",
        "    response = model.generate_content(\"Find education information in the given resume:\\n\" + pdf_content)\n",
        "\n",
        "    # Display the response\n",
        "    print(f\"Response for {file_path}:\\n{response.text}\\n\")\n",
        "\n",
        "    # Optionally, display the response in Markdown format\n",
        "    display(to_markdown(response.text))\n"
      ]
    },
    {
      "cell_type": "code",
      "execution_count": 15,
      "metadata": {
        "colab": {
          "base_uri": "https://localhost:8080/",
          "height": 1000
        },
        "id": "BmBnLM8C6Tqk",
        "outputId": "868c99fb-ecc4-4717-cba5-e1aa5aeddbdf"
      },
      "outputs": [
        {
          "output_type": "stream",
          "name": "stdout",
          "text": [
            "Requirement already satisfied: PyPDF2 in /usr/local/lib/python3.10/dist-packages (3.0.1)\n",
            "models/gemini-1.0-pro\n",
            "models/gemini-1.0-pro-001\n",
            "models/gemini-1.0-pro-latest\n",
            "models/gemini-1.0-pro-vision-latest\n",
            "models/gemini-1.5-flash\n",
            "models/gemini-1.5-flash-001\n",
            "models/gemini-1.5-flash-latest\n",
            "models/gemini-1.5-pro\n",
            "models/gemini-1.5-pro-001\n",
            "models/gemini-1.5-pro-latest\n",
            "models/gemini-pro\n",
            "models/gemini-pro-vision\n",
            "Processing resume: /DataAnalystResume_01.pdf\n",
            "Educational information for /DataAnalystResume_01.pdf:\n",
            "The resume provides the following education information:\n",
            "\n",
            "* **University of Pittsburgh**\n",
            "    * **B.S. in Computer Science**\n",
            "    * **September 2011 - April 2015**\n",
            "    * **Pittsburgh, PA** \n",
            "\n",
            "\n"
          ]
        },
        {
          "output_type": "display_data",
          "data": {
            "text/plain": [
              "<IPython.core.display.Markdown object>"
            ],
            "text/markdown": "> The resume provides the following education information:\n> \n> * **University of Pittsburgh**\n>     * **B.S. in Computer Science**\n>     * **September 2011 - April 2015**\n>     * **Pittsburgh, PA** \n"
          },
          "metadata": {}
        },
        {
          "output_type": "stream",
          "name": "stdout",
          "text": [
            "Processing resume: /DataAnalystResume_02.pdf\n",
            "Educational information for /DataAnalystResume_02.pdf:\n",
            "Here's the education information extracted from the resume:\n",
            "\n",
            "**University of Pittsburgh**\n",
            "* **Degree:** B.S. in Mathematics and Economics\n",
            "* **Dates:** September 2016 - April 2020\n",
            "* **Location:** Pittsburgh, PA\n",
            "* **GPA:** 3.7\n",
            "* **Relevant Courses:** Intermediate programming, Probability & Statistics, Linear Algebra, Applied Econometrics, Game Theory, Calculus 1-3 \n",
            "\n",
            "\n"
          ]
        },
        {
          "output_type": "display_data",
          "data": {
            "text/plain": [
              "<IPython.core.display.Markdown object>"
            ],
            "text/markdown": "> Here's the education information extracted from the resume:\n> \n> **University of Pittsburgh**\n> * **Degree:** B.S. in Mathematics and Economics\n> * **Dates:** September 2016 - April 2020\n> * **Location:** Pittsburgh, PA\n> * **GPA:** 3.7\n> * **Relevant Courses:** Intermediate programming, Probability & Statistics, Linear Algebra, Applied Econometrics, Game Theory, Calculus 1-3 \n"
          },
          "metadata": {}
        },
        {
          "output_type": "stream",
          "name": "stdout",
          "text": [
            "Processing resume: /DataAnalystResume_01.pdf\n",
            "Educational information for /DataAnalystResume_01.pdf:\n",
            "The resume provides the following education information:\n",
            "\n",
            "* **University of Pittsburgh**\n",
            "    * B.S. in Computer Science\n",
            "    * September 2011 - April 2015\n",
            "    * Pittsburgh, PA \n",
            "\n",
            "\n"
          ]
        },
        {
          "output_type": "display_data",
          "data": {
            "text/plain": [
              "<IPython.core.display.Markdown object>"
            ],
            "text/markdown": "> The resume provides the following education information:\n> \n> * **University of Pittsburgh**\n>     * B.S. in Computer Science\n>     * September 2011 - April 2015\n>     * Pittsburgh, PA \n"
          },
          "metadata": {}
        }
      ],
      "source": [
        "!pip install -q -U google-generativeai\n",
        "!pip install PyPDF2\n",
        "\n",
        "import pathlib\n",
        "import textwrap\n",
        "\n",
        "import google.generativeai as genai\n",
        "from IPython.display import display, Markdown\n",
        "from google.colab import userdata\n",
        "import PyPDF2\n",
        "\n",
        "def to_markdown(text):\n",
        "    text = text.replace('•', '  *')\n",
        "    return Markdown(textwrap.indent(text, '> ', predicate=lambda _: True))\n",
        "\n",
        "# Used to securely store your API key\n",
        "os.environ[\"GOOGLE_API_KEY\"] = \"*****************\"\n",
        "genai.configure(api_key= '*******************')\n",
        "\n",
        "for m in genai.list_models():\n",
        "    if 'generateContent' in m.supported_generation_methods:\n",
        "        print(m.name)\n",
        "\n",
        "model = genai.GenerativeModel('gemini-1.5-flash')\n",
        "\n",
        "# Function to convert PDF to text\n",
        "def pdf_to_string(file_path):\n",
        "    pdf_text = \"\"\n",
        "    with open(file_path, 'rb') as file:\n",
        "        reader = PyPDF2.PdfReader(file)\n",
        "        for page_num in range(len(reader.pages)):\n",
        "            page = reader.pages[page_num]\n",
        "            pdf_text += page.extract_text()\n",
        "    return pdf_text\n",
        "\n",
        "# List of file paths to PDF resumes\n",
        "file_paths = [\n",
        "    '/DataAnalystResume_01.pdf',\n",
        "    '/DataAnalystResume_02.pdf',\n",
        "    '/DataAnalystResume_01.pdf' # Add more paths as needed\n",
        "]\n",
        "\n",
        "# Extract educational information from each resume\n",
        "educational_info = {}\n",
        "\n",
        "for file_path in file_paths:\n",
        "    print(f\"Processing resume: {file_path}\")\n",
        "    pdf_content = pdf_to_string(file_path)\n",
        "\n",
        "    # Use the Gemini model to generate content relevant to education\n",
        "    response = model.generate_content(\"Find education information in the given resume:\\n\" + pdf_content)\n",
        "\n",
        "    # Store the educational information\n",
        "    educational_info[file_path] = response.text\n",
        "\n",
        "    # Display the response\n",
        "    print(f\"Educational information for {file_path}:\\n{response.text}\\n\")\n",
        "\n",
        "    # Optionally, display the response in Markdown format\n",
        "    display(to_markdown(response.text))\n"
      ]
    },
    {
      "cell_type": "markdown",
      "metadata": {
        "id": "HxM95o-n7vpZ"
      },
      "source": [
        "**## Using hard coded Function method to determine if the educational information is related to AI ##**"
      ]
    },
    {
      "cell_type": "code",
      "execution_count": 19,
      "metadata": {
        "colab": {
          "base_uri": "https://localhost:8080/"
        },
        "id": "gbRMGeGq7Yhb",
        "outputId": "6855107b-14a1-45d6-c8b4-0d54cf27f4a2"
      },
      "outputs": [
        {
          "output_type": "stream",
          "name": "stdout",
          "text": [
            "No resumes related to AI education were found.\n"
          ]
        }
      ],
      "source": [
        "#### Function to determine if the educational information is related to AI ####\n",
        "def is_ai_related(education_text):\n",
        "    ai_keywords = ['data analyst','artificial intelligence', 'AI', 'machine learning', 'deep learning', 'neural networks', 'data science']\n",
        "    education_text_lower = education_text.lower()\n",
        "    return any(keyword in education_text_lower for keyword in ai_keywords)\n",
        "\n",
        "# Check each educational information to see if it's related to AI\n",
        "ai_related_resumes = []\n",
        "\n",
        "for file_path, education_text in educational_info.items():\n",
        "    if is_ai_related(education_text):\n",
        "        ai_related_resumes.append(file_path)\n",
        "        print(f\"The resume at {file_path} is related to AI education.\")\n",
        "\n",
        "if not ai_related_resumes:\n",
        "    print(\"No resumes related to AI education were found.\")\n",
        "else:\n",
        "    print(f\"Resumes related to AI education: {ai_related_resumes}\")\n"
      ]
    },
    {
      "cell_type": "markdown",
      "metadata": {
        "id": "mynzVhPN-dwY"
      },
      "source": [
        "**Using Google gemeni model twice: First to extract information and then to decide which resume is related to AI**"
      ]
    },
    {
      "cell_type": "code",
      "execution_count": 21,
      "metadata": {
        "colab": {
          "base_uri": "https://localhost:8080/",
          "height": 1000
        },
        "id": "w1VTQbc77jSN",
        "outputId": "1fe4c4cc-3303-4ec9-813d-1aa5bacc28a6"
      },
      "outputs": [
        {
          "output_type": "stream",
          "name": "stdout",
          "text": [
            "Requirement already satisfied: PyPDF2 in /usr/local/lib/python3.10/dist-packages (3.0.1)\n",
            "models/gemini-1.0-pro\n",
            "models/gemini-1.0-pro-001\n",
            "models/gemini-1.0-pro-latest\n",
            "models/gemini-1.0-pro-vision-latest\n",
            "models/gemini-1.5-flash\n",
            "models/gemini-1.5-flash-001\n",
            "models/gemini-1.5-flash-latest\n",
            "models/gemini-1.5-pro\n",
            "models/gemini-1.5-pro-001\n",
            "models/gemini-1.5-pro-latest\n",
            "models/gemini-pro\n",
            "models/gemini-pro-vision\n",
            "Processing resume: /DataAnalystResume_01.pdf\n",
            "Educational information for /DataAnalystResume_01.pdf:\n",
            "The resume provides the following education information:\n",
            "\n",
            "* **University of Pittsburgh**\n",
            "    * **B.S. in Computer Science**\n",
            "    * **September 2011 - April 2015**\n",
            "    * **Pittsburgh, PA** \n",
            "\n",
            "\n"
          ]
        },
        {
          "output_type": "display_data",
          "data": {
            "text/plain": [
              "<IPython.core.display.Markdown object>"
            ],
            "text/markdown": "> The resume provides the following education information:\n> \n> * **University of Pittsburgh**\n>     * **B.S. in Computer Science**\n>     * **September 2011 - April 2015**\n>     * **Pittsburgh, PA** \n"
          },
          "metadata": {}
        },
        {
          "output_type": "stream",
          "name": "stdout",
          "text": [
            "Processing resume: /DataAnalystResume_02.pdf\n",
            "Educational information for /DataAnalystResume_02.pdf:\n",
            "Here's the education information from Stephen Greet's resume:\n",
            "\n",
            "**University of Pittsburgh**\n",
            "* **B.S. in Mathematics and Economics**\n",
            "* **September 2016 - April 2020**\n",
            "* **Pittsburgh, PA**\n",
            "* **Cumulative GPA: 3.7**\n",
            "* **Relevant Courses:**\n",
            "    * Intermediate Programming\n",
            "    * Probability & Statistics\n",
            "    * Linear Algebra\n",
            "    * Applied Econometrics\n",
            "    * Game Theory\n",
            "    * Calculus 1-3 \n",
            "\n",
            "\n"
          ]
        },
        {
          "output_type": "display_data",
          "data": {
            "text/plain": [
              "<IPython.core.display.Markdown object>"
            ],
            "text/markdown": "> Here's the education information from Stephen Greet's resume:\n> \n> **University of Pittsburgh**\n> * **B.S. in Mathematics and Economics**\n> * **September 2016 - April 2020**\n> * **Pittsburgh, PA**\n> * **Cumulative GPA: 3.7**\n> * **Relevant Courses:**\n>     * Intermediate Programming\n>     * Probability & Statistics\n>     * Linear Algebra\n>     * Applied Econometrics\n>     * Game Theory\n>     * Calculus 1-3 \n"
          },
          "metadata": {}
        },
        {
          "output_type": "stream",
          "name": "stdout",
          "text": [
            "The resume at /DataAnalystResume_02.pdf is related to AI education.\n",
            "\n",
            "Processing resume: /DataAnalystResume_03.pdf\n",
            "Educational information for /DataAnalystResume_03.pdf:\n",
            "The resume provides the following education information:\n",
            "\n",
            "* **Degree:** B.S. in Statistics\n",
            "* **Institution:** Rutgers University\n",
            "* **Location:** New Brunswick, NJ\n",
            "* **Dates:** September 2010 - April 2014 \n",
            "\n",
            "\n"
          ]
        },
        {
          "output_type": "display_data",
          "data": {
            "text/plain": [
              "<IPython.core.display.Markdown object>"
            ],
            "text/markdown": "> The resume provides the following education information:\n> \n> * **Degree:** B.S. in Statistics\n> * **Institution:** Rutgers University\n> * **Location:** New Brunswick, NJ\n> * **Dates:** September 2010 - April 2014 \n"
          },
          "metadata": {}
        },
        {
          "output_type": "stream",
          "name": "stdout",
          "text": [
            "So finally the Resumes related to AI education is: ['/DataAnalystResume_02.pdf']\n"
          ]
        }
      ],
      "source": [
        "!pip install -q -U google-generativeai\n",
        "!pip install PyPDF2\n",
        "\n",
        "import pathlib\n",
        "import textwrap\n",
        "\n",
        "import google.generativeai as genai\n",
        "from IPython.display import display, Markdown\n",
        "from google.colab import userdata\n",
        "import PyPDF2\n",
        "\n",
        "def to_markdown(text):\n",
        "    text = text.replace('•', '  *')\n",
        "    return Markdown(textwrap.indent(text, '> ', predicate=lambda _: True))\n",
        "\n",
        "# Used to securely store your API key\n",
        "os.environ[\"GOOGLE_API_KEY\"] = \"*************************\"\n",
        "genai.configure(api_key= '*********************')\n",
        "\n",
        "# Used to securely store  API key\n",
        "#GOOGLE_API_KEY = userdata.get('GOOGLE_API_KEY')\n",
        "#genai.configure(api_key=GOOGLE_API_KEY)\n",
        "\n",
        "for m in genai.list_models():\n",
        "    if 'generateContent' in m.supported_generation_methods:\n",
        "        print(m.name)\n",
        "\n",
        "model = genai.GenerativeModel('gemini-1.5-flash')\n",
        "\n",
        "# Function to convert PDF to text\n",
        "def pdf_to_string(file_path):\n",
        "    pdf_text = \"\"\n",
        "    with open(file_path, 'rb') as file:\n",
        "        reader = PyPDF2.PdfReader(file)\n",
        "        for page_num in range(len(reader.pages)):\n",
        "            page = reader.pages[page_num]\n",
        "            pdf_text += page.extract_text()\n",
        "    return pdf_text\n",
        "\n",
        "# List of file paths to PDF resumes\n",
        "file_paths = [\n",
        "    '/DataAnalystResume_01.pdf',\n",
        "    '/DataAnalystResume_02.pdf',\n",
        "    '/DataAnalystResume_03.pdf' # Add more paths as needed\n",
        "]\n",
        "\n",
        "# Extract educational information from each resume\n",
        "educational_info = {}\n",
        "ai_related_resumes = []\n",
        "\n",
        "for file_path in file_paths:\n",
        "    print(f\"Processing resume: {file_path}\")\n",
        "    pdf_content = pdf_to_string(file_path)\n",
        "\n",
        "    # Use the Gemini model to generate content relevant to education\n",
        "    response = model.generate_content(\"Find education information in the given resume:\\n\" + pdf_content)\n",
        "\n",
        "    # Store the educational information\n",
        "    educational_info[file_path] = response.text\n",
        "\n",
        "    # Display the response\n",
        "    print(f\"Educational information for {file_path}:\\n{response.text}\\n\")\n",
        "\n",
        "    # Optionally, display the response in Markdown format\n",
        "    display(to_markdown(response.text))\n",
        "\n",
        "    # Use the model to determine if the education is related to AI\n",
        "    ai_check_response = model.generate_content(\"Is the following educational information related to AI?\\n\" + response.text)\n",
        "\n",
        "    if \"yes\" in ai_check_response.text.lower():\n",
        "        ai_related_resumes.append(file_path)\n",
        "        print(f\"The resume at {file_path} is related to AI education.\\n\")\n",
        "\n",
        "if not ai_related_resumes:\n",
        "    print(\"No resumes related to AI education were found.\")\n",
        "else:\n",
        "    print(f\"So finally the Resumes related to AI education is: {ai_related_resumes}\")\n"
      ]
    }
  ],
  "metadata": {
    "accelerator": "GPU",
    "colab": {
      "gpuType": "T4",
      "provenance": [],
      "include_colab_link": true
    },
    "kernelspec": {
      "display_name": "Python 3",
      "name": "python3"
    },
    "language_info": {
      "name": "python"
    }
  },
  "nbformat": 4,
  "nbformat_minor": 0
}